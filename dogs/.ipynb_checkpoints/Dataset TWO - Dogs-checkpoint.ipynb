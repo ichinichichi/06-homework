{
 "cells": [
  {
   "cell_type": "markdown",
   "metadata": {},
   "source": [
    "# Homework 6, Part Two: A dataset about dogs.\n",
    "\n",
    "Data from [a FOIL request to New York City](https://www.muckrock.com/foi/new-york-city-17/pet-licensing-data-for-new-york-city-23826/)"
   ]
  },
  {
   "cell_type": "markdown",
   "metadata": {},
   "source": [
    "## Do your importing and your setup"
   ]
  },
  {
   "cell_type": "code",
   "execution_count": 1,
   "metadata": {},
   "outputs": [],
   "source": [
    "import pandas as pd\n",
    "import numpy as np\n",
    "\n",
    "pd.set_option(\"display.max_columns\",100)\n",
    "pd.set_option(\"display.max_rows\",100)"
   ]
  },
  {
   "cell_type": "markdown",
   "metadata": {},
   "source": [
    "## Read in the file `NYC_Dog_Licenses_Current_as_of_4-28-2016.xlsx` and look at the first five rows"
   ]
  },
  {
   "cell_type": "code",
   "execution_count": 2,
   "metadata": {},
   "outputs": [
    {
     "data": {
      "text/html": [
       "<div>\n",
       "<style scoped>\n",
       "    .dataframe tbody tr th:only-of-type {\n",
       "        vertical-align: middle;\n",
       "    }\n",
       "\n",
       "    .dataframe tbody tr th {\n",
       "        vertical-align: top;\n",
       "    }\n",
       "\n",
       "    .dataframe thead th {\n",
       "        text-align: right;\n",
       "    }\n",
       "</style>\n",
       "<table border=\"1\" class=\"dataframe\">\n",
       "  <thead>\n",
       "    <tr style=\"text-align: right;\">\n",
       "      <th></th>\n",
       "      <th>Owner Zip Code</th>\n",
       "      <th>Animal Name</th>\n",
       "      <th>Animal Gender</th>\n",
       "      <th>Primary Breed</th>\n",
       "      <th>Secondary Breed</th>\n",
       "      <th>Animal Dominant Color</th>\n",
       "      <th>Animal Secondary Color</th>\n",
       "      <th>Animal Third Color</th>\n",
       "      <th>Animal Birth</th>\n",
       "      <th>Spayed or Neut</th>\n",
       "      <th>Guard or Trained</th>\n",
       "      <th>Vaccinated</th>\n",
       "      <th>Application Date</th>\n",
       "      <th>License Issued Date</th>\n",
       "      <th>License Expired Date</th>\n",
       "    </tr>\n",
       "  </thead>\n",
       "  <tbody>\n",
       "    <tr>\n",
       "      <th>0</th>\n",
       "      <td>10024</td>\n",
       "      <td>BLUE MACK</td>\n",
       "      <td>M</td>\n",
       "      <td>Unknown</td>\n",
       "      <td>AIREDALE TERR</td>\n",
       "      <td>BROWN</td>\n",
       "      <td>BLACK</td>\n",
       "      <td>NaN</td>\n",
       "      <td>2007-11-01</td>\n",
       "      <td>Yes</td>\n",
       "      <td>No</td>\n",
       "      <td>Yes</td>\n",
       "      <td>2012-09-19 16:01:19.647</td>\n",
       "      <td>2015-09-19</td>\n",
       "      <td>2016-09-19</td>\n",
       "    </tr>\n",
       "    <tr>\n",
       "      <th>1</th>\n",
       "      <td>10461</td>\n",
       "      <td>Indie Zephir</td>\n",
       "      <td>M</td>\n",
       "      <td>Rottweiler</td>\n",
       "      <td>NaN</td>\n",
       "      <td>BLACK</td>\n",
       "      <td>TAN</td>\n",
       "      <td>NaN</td>\n",
       "      <td>2013-04-01</td>\n",
       "      <td>No</td>\n",
       "      <td>No</td>\n",
       "      <td>Yes</td>\n",
       "      <td>2013-09-20 11:41:36.647</td>\n",
       "      <td>2014-09-20</td>\n",
       "      <td>2018-09-20</td>\n",
       "    </tr>\n",
       "    <tr>\n",
       "      <th>2</th>\n",
       "      <td>10013</td>\n",
       "      <td>Bilal</td>\n",
       "      <td>M</td>\n",
       "      <td>Australian Cattledog</td>\n",
       "      <td>NaN</td>\n",
       "      <td>Rust</td>\n",
       "      <td>NaN</td>\n",
       "      <td>NaN</td>\n",
       "      <td>2014-09-01</td>\n",
       "      <td>Yes</td>\n",
       "      <td>NaN</td>\n",
       "      <td>No</td>\n",
       "      <td>2014-09-12 13:13:36.713</td>\n",
       "      <td>2014-09-12</td>\n",
       "      <td>2019-09-12</td>\n",
       "    </tr>\n",
       "    <tr>\n",
       "      <th>3</th>\n",
       "      <td>10025</td>\n",
       "      <td>Buddy</td>\n",
       "      <td>M</td>\n",
       "      <td>Unknown</td>\n",
       "      <td>Cockapoo</td>\n",
       "      <td>BLOND</td>\n",
       "      <td>WHITE</td>\n",
       "      <td>NaN</td>\n",
       "      <td>2008-04-01</td>\n",
       "      <td>Yes</td>\n",
       "      <td>No</td>\n",
       "      <td>Yes</td>\n",
       "      <td>2014-09-12 15:26:51.417</td>\n",
       "      <td>2014-09-12</td>\n",
       "      <td>2017-10-20</td>\n",
       "    </tr>\n",
       "    <tr>\n",
       "      <th>4</th>\n",
       "      <td>10013</td>\n",
       "      <td>Ali</td>\n",
       "      <td>M</td>\n",
       "      <td>Basenji</td>\n",
       "      <td>NaN</td>\n",
       "      <td>Black</td>\n",
       "      <td>NaN</td>\n",
       "      <td>NaN</td>\n",
       "      <td>2014-01-01</td>\n",
       "      <td>No</td>\n",
       "      <td>NaN</td>\n",
       "      <td>No</td>\n",
       "      <td>2014-09-12 15:43:17.707</td>\n",
       "      <td>2014-09-12</td>\n",
       "      <td>2019-09-12</td>\n",
       "    </tr>\n",
       "  </tbody>\n",
       "</table>\n",
       "</div>"
      ],
      "text/plain": [
       "   Owner Zip Code   Animal Name Animal Gender         Primary Breed  \\\n",
       "0           10024     BLUE MACK             M               Unknown   \n",
       "1           10461  Indie Zephir             M            Rottweiler   \n",
       "2           10013         Bilal             M  Australian Cattledog   \n",
       "3           10025         Buddy             M               Unknown   \n",
       "4           10013           Ali             M               Basenji   \n",
       "\n",
       "  Secondary Breed Animal Dominant Color Animal Secondary Color  \\\n",
       "0   AIREDALE TERR                 BROWN                  BLACK   \n",
       "1             NaN                 BLACK                    TAN   \n",
       "2             NaN                  Rust                    NaN   \n",
       "3        Cockapoo                 BLOND                  WHITE   \n",
       "4             NaN                 Black                    NaN   \n",
       "\n",
       "  Animal Third Color Animal Birth Spayed or Neut Guard or Trained Vaccinated  \\\n",
       "0                NaN   2007-11-01            Yes               No        Yes   \n",
       "1                NaN   2013-04-01             No               No        Yes   \n",
       "2                NaN   2014-09-01            Yes              NaN         No   \n",
       "3                NaN   2008-04-01            Yes               No        Yes   \n",
       "4                NaN   2014-01-01             No              NaN         No   \n",
       "\n",
       "         Application Date License Issued Date License Expired Date  \n",
       "0 2012-09-19 16:01:19.647          2015-09-19           2016-09-19  \n",
       "1 2013-09-20 11:41:36.647          2014-09-20           2018-09-20  \n",
       "2 2014-09-12 13:13:36.713          2014-09-12           2019-09-12  \n",
       "3 2014-09-12 15:26:51.417          2014-09-12           2017-10-20  \n",
       "4 2014-09-12 15:43:17.707          2014-09-12           2019-09-12  "
      ]
     },
     "execution_count": 2,
     "metadata": {},
     "output_type": "execute_result"
    }
   ],
   "source": [
    "df = pd.read_excel(\"NYC_Dog_Licenses_Current_as_of_4-28-2016.xlsx\")\n",
    "df.head(5)"
   ]
  },
  {
   "cell_type": "markdown",
   "metadata": {},
   "source": [
    "## How many rows do you have in the data? What are the column types?\n",
    "\n",
    "If there are more than 30,000 rows in your dataset, go back and only read in the first 30,000."
   ]
  },
  {
   "cell_type": "code",
   "execution_count": 3,
   "metadata": {},
   "outputs": [
    {
     "data": {
      "text/plain": [
       "81937"
      ]
     },
     "execution_count": 3,
     "metadata": {},
     "output_type": "execute_result"
    }
   ],
   "source": [
    "len(df)"
   ]
  },
  {
   "cell_type": "code",
   "execution_count": 4,
   "metadata": {},
   "outputs": [
    {
     "data": {
      "text/plain": [
       "Owner Zip Code                     int64\n",
       "Animal Name                       object\n",
       "Animal Gender                     object\n",
       "Primary Breed                     object\n",
       "Secondary Breed                   object\n",
       "Animal Dominant Color             object\n",
       "Animal Secondary Color            object\n",
       "Animal Third Color                object\n",
       "Animal Birth              datetime64[ns]\n",
       "Spayed or Neut                    object\n",
       "Guard or Trained                  object\n",
       "Vaccinated                        object\n",
       "Application Date          datetime64[ns]\n",
       "License Issued Date       datetime64[ns]\n",
       "License Expired Date      datetime64[ns]\n",
       "dtype: object"
      ]
     },
     "execution_count": 4,
     "metadata": {},
     "output_type": "execute_result"
    }
   ],
   "source": [
    "df.dtypes"
   ]
  },
  {
   "cell_type": "markdown",
   "metadata": {},
   "source": [
    "## Describe the dataset in words. What is each row? List two column titles along with what each of those columns means.\n",
    "\n",
    "For example: “Each row is an animal in the zoo. `is_reptile` is whether the animal is a reptile or not”"
   ]
  },
  {
   "cell_type": "markdown",
   "metadata": {},
   "source": [
    "The dataset describes dog licensing data in New York City along with the dog name under  `Animal Name `, the gender of the dog under  `Animal Gender `. The column  `Vaccinated ` answers the questions whether the dog got vaccinated with a **Yes** or **No**.\n",
    "\n",
    "Each row describes a single dog and its data."
   ]
  },
  {
   "cell_type": "markdown",
   "metadata": {},
   "source": [
    "# Your thoughts\n",
    "\n",
    "Think of four questions you could ask this dataset. **Don't ask them**, just write them down in the cell below. Feel free to use either Markdown or Python comments."
   ]
  },
  {
   "cell_type": "markdown",
   "metadata": {},
   "source": [
    "1. What dog breed is the most populat one?\n",
    "2. What are the most popular dog names in New York City?\n",
    "3. Which breed of dogs are spayed or neutered the most?\n",
    "4. Were do most dog owners live?"
   ]
  },
  {
   "cell_type": "markdown",
   "metadata": {},
   "source": [
    "# Looking at some dogs"
   ]
  },
  {
   "cell_type": "markdown",
   "metadata": {},
   "source": [
    "## What are the most popular (primary) breeds of dogs? Graph the top 10."
   ]
  },
  {
   "cell_type": "code",
   "execution_count": 5,
   "metadata": {},
   "outputs": [
    {
     "data": {
      "text/plain": [
       "<AxesSubplot:>"
      ]
     },
     "execution_count": 5,
     "metadata": {},
     "output_type": "execute_result"
    },
    {
     "data": {
      "image/png": "[encoded data removed]",
      "text/plain": [
       "<Figure size 432x288 with 1 Axes>"
      ]
     },
     "metadata": {
      "needs_background": "light"
     },
     "output_type": "display_data"
    }
   ],
   "source": [
    "df[\"Primary Breed\"].value_counts().head(10).plot(kind='bar')"
   ]
  },
  {
   "cell_type": "markdown",
   "metadata": {},
   "source": [
    "## \"Unknown\" is a terrible breed! Graph the top 10 breeds that are NOT Unknown"
   ]
  },
  {
   "cell_type": "code",
   "execution_count": 6,
   "metadata": {},
   "outputs": [
    {
     "data": {
      "text/plain": [
       "<AxesSubplot:>"
      ]
     },
     "execution_count": 6,
     "metadata": {},
     "output_type": "execute_result"
    },
    {
     "data": {
      "image/png": "[encoded data removed]",
      "text/plain": [
       "<Figure size 432x288 with 1 Axes>"
      ]
     },
     "metadata": {
      "needs_background": "light"
     },
     "output_type": "display_data"
    }
   ],
   "source": [
    "df[df[\"Primary Breed\"]!=\"Unknown\"][\"Primary Breed\"].value_counts().head(10).plot(kind='bar')"
   ]
  },
  {
   "cell_type": "markdown",
   "metadata": {},
   "source": [
    "## What are the most popular dog names?"
   ]
  },
  {
   "cell_type": "code",
   "execution_count": 7,
   "metadata": {},
   "outputs": [
    {
     "data": {
      "text/plain": [
       "<AxesSubplot:>"
      ]
     },
     "execution_count": 7,
     "metadata": {},
     "output_type": "execute_result"
    },
    {
     "data": {
      "image/png": "[encoded data removed]",
      "text/plain": [
       "<Figure size 432x288 with 1 Axes>"
      ]
     },
     "metadata": {
      "needs_background": "light"
     },
     "output_type": "display_data"
    }
   ],
   "source": [
    "df[df[\"Animal Name\"]!=\"UNKNOWN\"][\"Animal Name\"].value_counts().head(10).plot(kind='bar')"
   ]
  },
  {
   "cell_type": "markdown",
   "metadata": {},
   "source": [
    "## Do any dogs have your name? How many dogs are named \"Max,\" and how many are named \"Maxwell\"?"
   ]
  },
  {
   "cell_type": "code",
   "execution_count": 8,
   "metadata": {},
   "outputs": [
    {
     "data": {
      "text/plain": [
       "652"
      ]
     },
     "execution_count": 8,
     "metadata": {},
     "output_type": "execute_result"
    }
   ],
   "source": [
    "df[df[\"Animal Name\"].str.contains(\"^MAX$\", case=False,na= False)][\"Animal Name\"].count()"
   ]
  },
  {
   "cell_type": "markdown",
   "metadata": {},
   "source": [
    "652 dogs have the name Max."
   ]
  },
  {
   "cell_type": "code",
   "execution_count": 9,
   "metadata": {},
   "outputs": [
    {
     "data": {
      "text/plain": [
       "37"
      ]
     },
     "execution_count": 9,
     "metadata": {},
     "output_type": "execute_result"
    }
   ],
   "source": [
    "df[df[\"Animal Name\"].str.contains(\"^MAXWELL$\", case=False,na= False)][\"Animal Name\"].count()"
   ]
  },
  {
   "cell_type": "markdown",
   "metadata": {},
   "source": [
    "37 dogs have the name Maxwell."
   ]
  },
  {
   "cell_type": "markdown",
   "metadata": {},
   "source": [
    "## What percentage of dogs are guard dogs?\n",
    "\n",
    "Check out the documentation for [value counts](https://pandas.pydata.org/pandas-docs/stable/generated/pandas.Series.value_counts.html)."
   ]
  },
  {
   "cell_type": "code",
   "execution_count": 10,
   "metadata": {},
   "outputs": [
    {
     "data": {
      "text/plain": [
       "No     0.998971\n",
       "Yes    0.001029\n",
       "Name: Guard or Trained, dtype: float64"
      ]
     },
     "execution_count": 10,
     "metadata": {},
     "output_type": "execute_result"
    }
   ],
   "source": [
    "df[\"Guard or Trained\"].value_counts(normalize=True)"
   ]
  },
  {
   "cell_type": "markdown",
   "metadata": {},
   "source": [
    "0,1029% od the dogs are guard dogs."
   ]
  },
  {
   "cell_type": "markdown",
   "metadata": {},
   "source": [
    "## What are the actual numbers?"
   ]
  },
  {
   "cell_type": "code",
   "execution_count": 11,
   "metadata": {},
   "outputs": [
    {
     "data": {
      "text/plain": [
       "No     49525\n",
       "Yes       51\n",
       "Name: Guard or Trained, dtype: int64"
      ]
     },
     "execution_count": 11,
     "metadata": {},
     "output_type": "execute_result"
    }
   ],
   "source": [
    "df[\"Guard or Trained\"].value_counts()"
   ]
  },
  {
   "cell_type": "markdown",
   "metadata": {},
   "source": [
    "51 dogs are guard dogs."
   ]
  },
  {
   "cell_type": "markdown",
   "metadata": {},
   "source": [
    "## Wait... if you add that up, is it the same as your number of rows? Where are the other dogs???? How can we find them??????\n",
    "\n",
    "Use your `.head()` to think about it, then you'll do some magic with `.value_counts()`"
   ]
  },
  {
   "cell_type": "code",
   "execution_count": 12,
   "metadata": {},
   "outputs": [
    {
     "data": {
      "text/plain": [
       "No     49525\n",
       "NaN    32361\n",
       "Yes       51\n",
       "Name: Guard or Trained, dtype: int64"
      ]
     },
     "execution_count": 12,
     "metadata": {},
     "output_type": "execute_result"
    }
   ],
   "source": [
    "df[\"Guard or Trained\"].value_counts(dropna=False)"
   ]
  },
  {
   "cell_type": "markdown",
   "metadata": {},
   "source": [
    "It is less than the numbers of rows since there are also missing values."
   ]
  },
  {
   "cell_type": "markdown",
   "metadata": {},
   "source": [
    "## Fill in all of those empty \"Guard or Trained\" columns with \"No\"\n",
    "\n",
    "Then check your result with another `.value_counts()`"
   ]
  },
  {
   "cell_type": "code",
   "execution_count": 13,
   "metadata": {},
   "outputs": [],
   "source": [
    "df[\"Guard or Trained\"]=df[\"Guard or Trained\"].replace( np.nan, 'No')"
   ]
  },
  {
   "cell_type": "code",
   "execution_count": 14,
   "metadata": {},
   "outputs": [
    {
     "data": {
      "text/plain": [
       "No     81886\n",
       "Yes       51\n",
       "Name: Guard or Trained, dtype: int64"
      ]
     },
     "execution_count": 14,
     "metadata": {},
     "output_type": "execute_result"
    }
   ],
   "source": [
    "df[\"Guard or Trained\"].value_counts(dropna=False)"
   ]
  },
  {
   "cell_type": "markdown",
   "metadata": {},
   "source": [
    "## What are the top dog breeds for guard dogs? "
   ]
  },
  {
   "cell_type": "code",
   "execution_count": 15,
   "metadata": {},
   "outputs": [
    {
     "data": {
      "text/plain": [
       "Unknown                                 11\n",
       "German Shepherd Dog                      4\n",
       "American Pit Bull Mix / Pit Bull Mix     3\n",
       "Labrador Retriever                       3\n",
       "Rottweiler                               3\n",
       "Chihuahua                                3\n",
       "Shih Tzu                                 2\n",
       "Staffordshire Bull Terrier               2\n",
       "Jack Russell Terrier                     1\n",
       "Schnauzer, Miniature                     1\n",
       "Maltese                                  1\n",
       "Yorkshire Terrier                        1\n",
       "Beagle Crossbreed                        1\n",
       "Golden Retriever                         1\n",
       "Poodle, Standard                         1\n",
       "Dachshund, Long Haired                   1\n",
       "Pekingese                                1\n",
       "Weimaraner                               1\n",
       "Doberman Pinscher                        1\n",
       "Poodle, Toy                              1\n",
       "Boxer                                    1\n",
       "German Shepherd Crossbreed               1\n",
       "Welsh Corgi, Pembroke                    1\n",
       "Border Terrier                           1\n",
       "Siberian Husky                           1\n",
       "Poodle, Miniature                        1\n",
       "Shetland Sheepdog                        1\n",
       "Miniature Pinscher                       1\n",
       "Name: Primary Breed, dtype: int64"
      ]
     },
     "execution_count": 15,
     "metadata": {},
     "output_type": "execute_result"
    }
   ],
   "source": [
    "df[df[\"Guard or Trained\"]=='Yes'][\"Primary Breed\"].value_counts()"
   ]
  },
  {
   "cell_type": "markdown",
   "metadata": {},
   "source": [
    "## Create a new column called \"year\" that is the dog's year of birth\n",
    "\n",
    "The `Animal Birth` column is a datetime, so you can get the year out of it with the code `df['Animal Birth'].apply(lambda birth: birth.year)`."
   ]
  },
  {
   "cell_type": "code",
   "execution_count": 16,
   "metadata": {},
   "outputs": [],
   "source": [
    "df['year']=df['Animal Birth'].apply(lambda birth: birth.year)"
   ]
  },
  {
   "cell_type": "markdown",
   "metadata": {},
   "source": [
    "## Calculate a new column called “age” that shows approximately how old the dog is. How old are dogs on average?"
   ]
  },
  {
   "cell_type": "code",
   "execution_count": 17,
   "metadata": {},
   "outputs": [],
   "source": [
    "df['age']=2021-df.year"
   ]
  },
  {
   "cell_type": "markdown",
   "metadata": {},
   "source": [
    "# Joining data together"
   ]
  },
  {
   "cell_type": "markdown",
   "metadata": {},
   "source": [
    "## Which neighborhood does each dog live in?\n",
    "\n",
    "You also have a (terrible) list of NYC neighborhoods in `zipcodes-neighborhoods.csv`. Join these two datasets together, so we know what neighborhood each dog lives in. **Be sure to not read it in as `df`, or else you'll overwrite your dogs dataframe.**"
   ]
  },
  {
   "cell_type": "code",
   "execution_count": 18,
   "metadata": {},
   "outputs": [
    {
     "data": {
      "text/html": [
       "<div>\n",
       "<style scoped>\n",
       "    .dataframe tbody tr th:only-of-type {\n",
       "        vertical-align: middle;\n",
       "    }\n",
       "\n",
       "    .dataframe tbody tr th {\n",
       "        vertical-align: top;\n",
       "    }\n",
       "\n",
       "    .dataframe thead th {\n",
       "        text-align: right;\n",
       "    }\n",
       "</style>\n",
       "<table border=\"1\" class=\"dataframe\">\n",
       "  <thead>\n",
       "    <tr style=\"text-align: right;\">\n",
       "      <th></th>\n",
       "      <th>Owner Zip Code</th>\n",
       "      <th>Animal Name</th>\n",
       "      <th>Animal Gender</th>\n",
       "      <th>Primary Breed</th>\n",
       "      <th>Secondary Breed</th>\n",
       "      <th>Animal Dominant Color</th>\n",
       "      <th>Animal Secondary Color</th>\n",
       "      <th>Animal Third Color</th>\n",
       "      <th>Animal Birth</th>\n",
       "      <th>Spayed or Neut</th>\n",
       "      <th>Guard or Trained</th>\n",
       "      <th>Vaccinated</th>\n",
       "      <th>Application Date</th>\n",
       "      <th>License Issued Date</th>\n",
       "      <th>License Expired Date</th>\n",
       "      <th>year</th>\n",
       "      <th>age</th>\n",
       "      <th>neighborhood</th>\n",
       "      <th>borough</th>\n",
       "    </tr>\n",
       "  </thead>\n",
       "  <tbody>\n",
       "    <tr>\n",
       "      <th>43772</th>\n",
       "      <td>10019.0</td>\n",
       "      <td>Goldie</td>\n",
       "      <td>F</td>\n",
       "      <td>Golden Retriever</td>\n",
       "      <td>NaN</td>\n",
       "      <td>Blond</td>\n",
       "      <td>White</td>\n",
       "      <td>NaN</td>\n",
       "      <td>2013-10-01</td>\n",
       "      <td>Yes</td>\n",
       "      <td>No</td>\n",
       "      <td>Yes</td>\n",
       "      <td>2015-12-08 14:31:25.533</td>\n",
       "      <td>2015-12-08</td>\n",
       "      <td>2016-12-10</td>\n",
       "      <td>2013.0</td>\n",
       "      <td>8.0</td>\n",
       "      <td>Chelsea and Clinton</td>\n",
       "      <td>Manhattan</td>\n",
       "    </tr>\n",
       "    <tr>\n",
       "      <th>73211</th>\n",
       "      <td>11357.0</td>\n",
       "      <td>CF Sundae</td>\n",
       "      <td>F</td>\n",
       "      <td>Australian Shepherd</td>\n",
       "      <td>NaN</td>\n",
       "      <td>TAN</td>\n",
       "      <td>WHITE</td>\n",
       "      <td>GRAY</td>\n",
       "      <td>2009-06-01</td>\n",
       "      <td>Yes</td>\n",
       "      <td>No</td>\n",
       "      <td>Yes</td>\n",
       "      <td>2016-04-07 20:08:32.687</td>\n",
       "      <td>2016-04-07</td>\n",
       "      <td>2017-04-20</td>\n",
       "      <td>2009.0</td>\n",
       "      <td>12.0</td>\n",
       "      <td>North Queens</td>\n",
       "      <td>Queens</td>\n",
       "    </tr>\n",
       "    <tr>\n",
       "      <th>79466</th>\n",
       "      <td>11434.0</td>\n",
       "      <td>Tobee</td>\n",
       "      <td>M</td>\n",
       "      <td>Shih Tzu</td>\n",
       "      <td>NaN</td>\n",
       "      <td>White</td>\n",
       "      <td>Black</td>\n",
       "      <td>NaN</td>\n",
       "      <td>2004-11-01</td>\n",
       "      <td>Yes</td>\n",
       "      <td>No</td>\n",
       "      <td>Yes</td>\n",
       "      <td>2015-10-28 13:41:03.060</td>\n",
       "      <td>2015-10-28</td>\n",
       "      <td>2016-10-28</td>\n",
       "      <td>2004.0</td>\n",
       "      <td>17.0</td>\n",
       "      <td>Jamaica</td>\n",
       "      <td>Queens</td>\n",
       "    </tr>\n",
       "    <tr>\n",
       "      <th>57504</th>\n",
       "      <td>10014.0</td>\n",
       "      <td>ASTRO</td>\n",
       "      <td>M</td>\n",
       "      <td>Unknown</td>\n",
       "      <td>RAT TERRIER</td>\n",
       "      <td>BLACK</td>\n",
       "      <td>WHITE</td>\n",
       "      <td>NaN</td>\n",
       "      <td>2004-01-01</td>\n",
       "      <td>Yes</td>\n",
       "      <td>No</td>\n",
       "      <td>Yes</td>\n",
       "      <td>2016-03-15 19:56:57.543</td>\n",
       "      <td>2016-03-15</td>\n",
       "      <td>2018-02-28</td>\n",
       "      <td>2004.0</td>\n",
       "      <td>17.0</td>\n",
       "      <td>Greenwich Village and Soho</td>\n",
       "      <td>Manhattan</td>\n",
       "    </tr>\n",
       "    <tr>\n",
       "      <th>47379</th>\n",
       "      <td>10314.0</td>\n",
       "      <td>Lexi</td>\n",
       "      <td>F</td>\n",
       "      <td>Doberman Pinscher</td>\n",
       "      <td>NaN</td>\n",
       "      <td>RED</td>\n",
       "      <td>RUST</td>\n",
       "      <td>NaN</td>\n",
       "      <td>2010-11-01</td>\n",
       "      <td>Yes</td>\n",
       "      <td>No</td>\n",
       "      <td>Yes</td>\n",
       "      <td>2015-05-24 16:56:58.960</td>\n",
       "      <td>2015-05-24</td>\n",
       "      <td>2017-05-05</td>\n",
       "      <td>2010.0</td>\n",
       "      <td>11.0</td>\n",
       "      <td>Mid-Island</td>\n",
       "      <td>Staten Island</td>\n",
       "    </tr>\n",
       "  </tbody>\n",
       "</table>\n",
       "</div>"
      ],
      "text/plain": [
       "       Owner Zip Code Animal Name Animal Gender        Primary Breed  \\\n",
       "43772         10019.0      Goldie             F     Golden Retriever   \n",
       "73211         11357.0   CF Sundae             F  Australian Shepherd   \n",
       "79466         11434.0       Tobee             M             Shih Tzu   \n",
       "57504         10014.0  ASTRO                  M              Unknown   \n",
       "47379         10314.0        Lexi             F    Doberman Pinscher   \n",
       "\n",
       "       Secondary Breed Animal Dominant Color Animal Secondary Color  \\\n",
       "43772              NaN                 Blond                  White   \n",
       "73211              NaN                   TAN                  WHITE   \n",
       "79466              NaN                 White                  Black   \n",
       "57504  RAT TERRIER                     BLACK                  WHITE   \n",
       "47379              NaN                   RED                   RUST   \n",
       "\n",
       "      Animal Third Color Animal Birth Spayed or Neut Guard or Trained  \\\n",
       "43772                NaN   2013-10-01            Yes               No   \n",
       "73211               GRAY   2009-06-01            Yes               No   \n",
       "79466                NaN   2004-11-01            Yes               No   \n",
       "57504                NaN   2004-01-01            Yes               No   \n",
       "47379                NaN   2010-11-01            Yes               No   \n",
       "\n",
       "      Vaccinated        Application Date License Issued Date  \\\n",
       "43772        Yes 2015-12-08 14:31:25.533          2015-12-08   \n",
       "73211        Yes 2016-04-07 20:08:32.687          2016-04-07   \n",
       "79466        Yes 2015-10-28 13:41:03.060          2015-10-28   \n",
       "57504        Yes 2016-03-15 19:56:57.543          2016-03-15   \n",
       "47379        Yes 2015-05-24 16:56:58.960          2015-05-24   \n",
       "\n",
       "      License Expired Date    year   age                neighborhood  \\\n",
       "43772           2016-12-10  2013.0   8.0         Chelsea and Clinton   \n",
       "73211           2017-04-20  2009.0  12.0                North Queens   \n",
       "79466           2016-10-28  2004.0  17.0                     Jamaica   \n",
       "57504           2018-02-28  2004.0  17.0  Greenwich Village and Soho   \n",
       "47379           2017-05-05  2010.0  11.0                  Mid-Island   \n",
       "\n",
       "             borough  \n",
       "43772      Manhattan  \n",
       "73211         Queens  \n",
       "79466         Queens  \n",
       "57504      Manhattan  \n",
       "47379  Staten Island  "
      ]
     },
     "execution_count": 18,
     "metadata": {},
     "output_type": "execute_result"
    }
   ],
   "source": [
    "df_zip= pd.read_csv('zipcodes-neighborhoods.csv')\n",
    "df= df.merge(df_zip, left_on=\"Owner Zip Code\", right_on=\"zip\", how=\"outer\")\n",
    "df=df.drop(columns=['zip'])\n",
    "df.sample(5)"
   ]
  },
  {
   "cell_type": "markdown",
   "metadata": {},
   "source": [
    "## What is the most popular dog name in all parts of the Bronx? How about Brooklyn? The Upper East Side?"
   ]
  },
  {
   "cell_type": "code",
   "execution_count": 19,
   "metadata": {},
   "outputs": [
    {
     "data": {
      "text/plain": [
       "Rocky    60\n",
       "Name: Animal Name, dtype: int64"
      ]
     },
     "execution_count": 19,
     "metadata": {},
     "output_type": "execute_result"
    }
   ],
   "source": [
    "df[df.borough=='Bronx'][\"Animal Name\"].value_counts().head(1)"
   ]
  },
  {
   "cell_type": "markdown",
   "metadata": {},
   "source": [
    "The most popular dog name in the Bronx is Rocky."
   ]
  },
  {
   "cell_type": "code",
   "execution_count": 20,
   "metadata": {},
   "outputs": [
    {
     "data": {
      "text/plain": [
       "unknown             234\n",
       "Unknown             161\n",
       "UNKNOWN             155\n",
       "Max                 113\n",
       "Bella               112\n",
       "                   ... \n",
       "Scoop LaFroscia       1\n",
       "NILA SAPHIRE GIN      1\n",
       "Novimba               1\n",
       "NIKKI                 1\n",
       "Cha-Cha W.            1\n",
       "Name: Animal Name, Length: 9814, dtype: int64"
      ]
     },
     "execution_count": 20,
     "metadata": {},
     "output_type": "execute_result"
    }
   ],
   "source": [
    "df[df.borough=='Brooklyn'][\"Animal Name\"].value_counts()"
   ]
  },
  {
   "cell_type": "markdown",
   "metadata": {},
   "source": [
    "The most popular dog name in Brooklyn is Max."
   ]
  },
  {
   "cell_type": "code",
   "execution_count": 21,
   "metadata": {},
   "outputs": [
    {
     "data": {
      "text/plain": [
       "Lucy    40\n",
       "Name: Animal Name, dtype: int64"
      ]
     },
     "execution_count": 21,
     "metadata": {},
     "output_type": "execute_result"
    }
   ],
   "source": [
    "df[df.neighborhood==\"Upper East Side\"][\"Animal Name\"].value_counts().head(1)"
   ]
  },
  {
   "cell_type": "markdown",
   "metadata": {},
   "source": [
    "The most popular dog name in the Upper East Side is Lucy."
   ]
  },
  {
   "cell_type": "markdown",
   "metadata": {},
   "source": [
    "## What is the most common dog breed in each of the neighborhoods of NYC?"
   ]
  },
  {
   "cell_type": "code",
   "execution_count": 22,
   "metadata": {},
   "outputs": [
    {
     "data": {
      "text/plain": [
       "neighborhood                   neighborhood                   Primary Breed                     \n",
       "Borough Park                   Borough Park                   Yorkshire Terrier                     115\n",
       "Bronx Park and Fordham         Bronx Park and Fordham         Yorkshire Terrier                      88\n",
       "Bushwick and Williamsburg      Bushwick and Williamsburg      Yorkshire Terrier                     135\n",
       "Canarsie and Flatlands         Canarsie and Flatlands         Yorkshire Terrier                     137\n",
       "Central Bronx                  Central Bronx                  Yorkshire Terrier                      82\n",
       "Central Brooklyn               Central Brooklyn               Shih Tzu                              113\n",
       "Central Harlem                 Central Harlem                 Yorkshire Terrier                     132\n",
       "Central Queens                 Central Queens                 Yorkshire Terrier                      67\n",
       "Chelsea and Clinton            Chelsea and Clinton            Chihuahua                             210\n",
       "East Harlem                    East Harlem                    Yorkshire Terrier                     129\n",
       "East New York and New Lots     East New York and New Lots     American Pit Bull Terrier/Pit Bull     87\n",
       "Flatbush                       Flatbush                       Shih Tzu                               78\n",
       "Gramercy Park and Murray Hill  Gramercy Park and Murray Hill  Yorkshire Terrier                     142\n",
       "Greenpoint                     Greenpoint                     Chihuahua                              83\n",
       "Greenwich Village and Soho     Greenwich Village and Soho     Labrador Retriever                    126\n",
       "High Bridge and Morrisania     High Bridge and Morrisania     Yorkshire Terrier                      90\n",
       "Hunts Point and Mott Haven     Hunts Point and Mott Haven     Yorkshire Terrier                      95\n",
       "Inwood and Washington Heights  Inwood and Washington Heights  Yorkshire Terrier                     138\n",
       "Jamaica                        Jamaica                        Yorkshire Terrier                     102\n",
       "Kingsbridge and Riverdale      Kingsbridge and Riverdale      Yorkshire Terrier                      69\n",
       "Lower East Side                Lower East Side                Yorkshire Terrier                     180\n",
       "Lower Manhattan                Lower Manhattan                Shih Tzu                               58\n",
       "Mid-Island                     Mid-Island                     Yorkshire Terrier                     100\n",
       "North Queens                   North Queens                   Maltese                               146\n",
       "Northeast Bronx                Northeast Bronx                Yorkshire Terrier                      94\n",
       "Northeast Queens               Northeast Queens               Maltese                                62\n",
       "Northwest Brooklyn             Northwest Brooklyn             Labrador Retriever                    194\n",
       "Northwest Queens               Northwest Queens               Chihuahua                             136\n",
       "Port Richmond                  Port Richmond                  Yorkshire Terrier                      62\n",
       "Rockaways                      Rockaways                      Shih Tzu                               64\n",
       "South Shore                    South Shore                    Shih Tzu                              267\n",
       "Southeast Bronx                Southeast Bronx                Shih Tzu                              245\n",
       "Southeast Queens               Southeast Queens               Yorkshire Terrier                      77\n",
       "Southern Brooklyn              Southern Brooklyn              Shih Tzu                              201\n",
       "Southwest Brooklyn             Southwest Brooklyn             Shih Tzu                              181\n",
       "Southwest Queens               Southwest Queens               Yorkshire Terrier                     151\n",
       "Stapleton and St. George       Stapleton and St. George       Yorkshire Terrier                     100\n",
       "Sunset Park                    Sunset Park                    Yorkshire Terrier                      72\n",
       "Upper East Side                Upper East Side                Shih Tzu                              246\n",
       "Upper West Side                Upper West Side                Labrador Retriever                    295\n",
       "West Central Queens            West Central Queens            Yorkshire Terrier                     184\n",
       "West Queens                    West Queens                    Shih Tzu                              218\n",
       "Name: Primary Breed, dtype: int64"
      ]
     },
     "execution_count": 22,
     "metadata": {},
     "output_type": "execute_result"
    }
   ],
   "source": [
    "df[df[\"Primary Breed\"]!=\"Unknown\"] \\\n",
    ".groupby(by=\"neighborhood\")[\"Primary Breed\"] \\\n",
    ".value_counts().groupby(by='neighborhood').nlargest(1)"
   ]
  },
  {
   "cell_type": "markdown",
   "metadata": {},
   "source": [
    "## What breed of dogs are the least likely to be spayed? Male or female?"
   ]
  },
  {
   "cell_type": "code",
   "execution_count": 23,
   "metadata": {},
   "outputs": [
    {
     "data": {
      "text/plain": [
       "Swedish Vallhund                1\n",
       "Polish Hound                    1\n",
       "Leonberger                      1\n",
       "Berger Picard                   1\n",
       "Kai Ken                         1\n",
       "Hamiltonstovare                 1\n",
       "Tibetan Mastiff                 1\n",
       "Fila Brasileiro                 1\n",
       "Cirneco dell                    1\n",
       "Small Munsterlander Pointer     1\n",
       "Russian Wolfhound               1\n",
       "Lancashire Heeler               1\n",
       "Biewer Terrier                  1\n",
       "Treeing Tennessee Brindle       1\n",
       "Cesky Terrier                   1\n",
       "Kooikerhondje                   1\n",
       "American Hairless Terrier       1\n",
       "Grand Basset Griffon Vendeen    1\n",
       "Curly-Coated Retriever          1\n",
       "Bracco Italiano                 1\n",
       "Name: Primary Breed, dtype: int64"
      ]
     },
     "execution_count": 23,
     "metadata": {},
     "output_type": "execute_result"
    }
   ],
   "source": [
    "df[df[\"Spayed or Neut\"]==\"Yes\"][\"Primary Breed\"].value_counts().tail(20)"
   ]
  },
  {
   "cell_type": "markdown",
   "metadata": {},
   "source": [
    "## Make a new column called monochrome that is True for any animal that only has black, white or grey as one of its colors. How many animals are monochrome?"
   ]
  },
  {
   "cell_type": "code",
   "execution_count": 24,
   "metadata": {},
   "outputs": [],
   "source": [
    "\n",
    "df[\"Monochrome\"]= (   \n",
    "(df['Animal Dominant Color'].str.lower().isin(['black', 'white' ,'grey', 'gray']) | df['Animal Dominant Color'].isna() ) & \n",
    "(df['Animal Secondary Color'].str.lower().isin(['black', 'white' ,'grey','gray']) | df['Animal Secondary Color'].isna() ) & \n",
    "(df['Animal Third Color'].str.lower().isin(['black', 'white' ,'grey','gray'])  | df['Animal Third Color'].isna() )\n",
    ")\n",
    "\n"
   ]
  },
  {
   "cell_type": "code",
   "execution_count": 25,
   "metadata": {},
   "outputs": [
    {
     "data": {
      "text/html": [
       "<div>\n",
       "<style scoped>\n",
       "    .dataframe tbody tr th:only-of-type {\n",
       "        vertical-align: middle;\n",
       "    }\n",
       "\n",
       "    .dataframe tbody tr th {\n",
       "        vertical-align: top;\n",
       "    }\n",
       "\n",
       "    .dataframe thead th {\n",
       "        text-align: right;\n",
       "    }\n",
       "</style>\n",
       "<table border=\"1\" class=\"dataframe\">\n",
       "  <thead>\n",
       "    <tr style=\"text-align: right;\">\n",
       "      <th></th>\n",
       "      <th>Owner Zip Code</th>\n",
       "      <th>Animal Name</th>\n",
       "      <th>Animal Gender</th>\n",
       "      <th>Primary Breed</th>\n",
       "      <th>Secondary Breed</th>\n",
       "      <th>Animal Dominant Color</th>\n",
       "      <th>Animal Secondary Color</th>\n",
       "      <th>Animal Third Color</th>\n",
       "      <th>Animal Birth</th>\n",
       "      <th>Spayed or Neut</th>\n",
       "      <th>Guard or Trained</th>\n",
       "      <th>Vaccinated</th>\n",
       "      <th>Application Date</th>\n",
       "      <th>License Issued Date</th>\n",
       "      <th>License Expired Date</th>\n",
       "      <th>year</th>\n",
       "      <th>age</th>\n",
       "      <th>neighborhood</th>\n",
       "      <th>borough</th>\n",
       "      <th>Monochrome</th>\n",
       "    </tr>\n",
       "  </thead>\n",
       "  <tbody>\n",
       "    <tr>\n",
       "      <th>75931</th>\n",
       "      <td>11697.0</td>\n",
       "      <td>Will</td>\n",
       "      <td>M</td>\n",
       "      <td>Labrador Retriever</td>\n",
       "      <td>NaN</td>\n",
       "      <td>Blond</td>\n",
       "      <td>NaN</td>\n",
       "      <td>NaN</td>\n",
       "      <td>2015-12-01</td>\n",
       "      <td>No</td>\n",
       "      <td>No</td>\n",
       "      <td>No</td>\n",
       "      <td>2016-03-23 13:43:26.383</td>\n",
       "      <td>2016-03-23</td>\n",
       "      <td>2017-03-23</td>\n",
       "      <td>2015.0</td>\n",
       "      <td>6.0</td>\n",
       "      <td>Rockaways</td>\n",
       "      <td>Queens</td>\n",
       "      <td>False</td>\n",
       "    </tr>\n",
       "    <tr>\n",
       "      <th>57371</th>\n",
       "      <td>10014.0</td>\n",
       "      <td>Ethan</td>\n",
       "      <td>M</td>\n",
       "      <td>Dachshund Smooth Coat Miniature</td>\n",
       "      <td>NaN</td>\n",
       "      <td>RED</td>\n",
       "      <td>BRINDLE</td>\n",
       "      <td>NaN</td>\n",
       "      <td>2009-05-01</td>\n",
       "      <td>Yes</td>\n",
       "      <td>No</td>\n",
       "      <td>Yes</td>\n",
       "      <td>2016-01-17 13:26:29.567</td>\n",
       "      <td>2016-01-17</td>\n",
       "      <td>2017-01-17</td>\n",
       "      <td>2009.0</td>\n",
       "      <td>12.0</td>\n",
       "      <td>Greenwich Village and Soho</td>\n",
       "      <td>Manhattan</td>\n",
       "      <td>False</td>\n",
       "    </tr>\n",
       "    <tr>\n",
       "      <th>39617</th>\n",
       "      <td>11385.0</td>\n",
       "      <td>Pepe</td>\n",
       "      <td>M</td>\n",
       "      <td>Welsh Corgi, Cardigan</td>\n",
       "      <td>NaN</td>\n",
       "      <td>BLACK</td>\n",
       "      <td>WHITE</td>\n",
       "      <td>TAN</td>\n",
       "      <td>2010-08-01</td>\n",
       "      <td>Yes</td>\n",
       "      <td>No</td>\n",
       "      <td>Yes</td>\n",
       "      <td>2015-12-09 15:07:01.913</td>\n",
       "      <td>2015-12-09</td>\n",
       "      <td>2016-12-28</td>\n",
       "      <td>2010.0</td>\n",
       "      <td>11.0</td>\n",
       "      <td>West Central Queens</td>\n",
       "      <td>Queens</td>\n",
       "      <td>False</td>\n",
       "    </tr>\n",
       "    <tr>\n",
       "      <th>66765</th>\n",
       "      <td>10280.0</td>\n",
       "      <td>PHIL</td>\n",
       "      <td>M</td>\n",
       "      <td>German Shepherd Crossbreed</td>\n",
       "      <td>NaN</td>\n",
       "      <td>TAN</td>\n",
       "      <td>BLACK</td>\n",
       "      <td>NaN</td>\n",
       "      <td>2004-11-01</td>\n",
       "      <td>Yes</td>\n",
       "      <td>No</td>\n",
       "      <td>Yes</td>\n",
       "      <td>2016-02-06 10:50:29.200</td>\n",
       "      <td>2016-02-06</td>\n",
       "      <td>2017-03-30</td>\n",
       "      <td>2004.0</td>\n",
       "      <td>17.0</td>\n",
       "      <td>Lower Manhattan</td>\n",
       "      <td>Manhattan</td>\n",
       "      <td>False</td>\n",
       "    </tr>\n",
       "    <tr>\n",
       "      <th>41811</th>\n",
       "      <td>11216.0</td>\n",
       "      <td>PEPE</td>\n",
       "      <td>M</td>\n",
       "      <td>Bull Dog, French</td>\n",
       "      <td>NaN</td>\n",
       "      <td>BRINDLE</td>\n",
       "      <td>NaN</td>\n",
       "      <td>NaN</td>\n",
       "      <td>2007-01-01</td>\n",
       "      <td>Yes</td>\n",
       "      <td>No</td>\n",
       "      <td>Yes</td>\n",
       "      <td>2016-02-02 13:20:37.263</td>\n",
       "      <td>2016-02-02</td>\n",
       "      <td>2016-08-17</td>\n",
       "      <td>2007.0</td>\n",
       "      <td>14.0</td>\n",
       "      <td>Central Brooklyn</td>\n",
       "      <td>Brooklyn</td>\n",
       "      <td>False</td>\n",
       "    </tr>\n",
       "  </tbody>\n",
       "</table>\n",
       "</div>"
      ],
      "text/plain": [
       "       Owner Zip Code Animal Name Animal Gender  \\\n",
       "75931         11697.0        Will             M   \n",
       "57371         10014.0       Ethan             M   \n",
       "39617         11385.0        Pepe             M   \n",
       "66765         10280.0  PHIL                   M   \n",
       "41811         11216.0        PEPE             M   \n",
       "\n",
       "                         Primary Breed Secondary Breed Animal Dominant Color  \\\n",
       "75931               Labrador Retriever             NaN                 Blond   \n",
       "57371  Dachshund Smooth Coat Miniature             NaN                   RED   \n",
       "39617            Welsh Corgi, Cardigan             NaN                 BLACK   \n",
       "66765       German Shepherd Crossbreed             NaN                   TAN   \n",
       "41811                 Bull Dog, French             NaN               BRINDLE   \n",
       "\n",
       "      Animal Secondary Color Animal Third Color Animal Birth Spayed or Neut  \\\n",
       "75931                    NaN                NaN   2015-12-01             No   \n",
       "57371                BRINDLE                NaN   2009-05-01            Yes   \n",
       "39617                  WHITE                TAN   2010-08-01            Yes   \n",
       "66765                  BLACK                NaN   2004-11-01            Yes   \n",
       "41811                    NaN                NaN   2007-01-01            Yes   \n",
       "\n",
       "      Guard or Trained Vaccinated        Application Date License Issued Date  \\\n",
       "75931               No         No 2016-03-23 13:43:26.383          2016-03-23   \n",
       "57371               No        Yes 2016-01-17 13:26:29.567          2016-01-17   \n",
       "39617               No        Yes 2015-12-09 15:07:01.913          2015-12-09   \n",
       "66765               No        Yes 2016-02-06 10:50:29.200          2016-02-06   \n",
       "41811               No        Yes 2016-02-02 13:20:37.263          2016-02-02   \n",
       "\n",
       "      License Expired Date    year   age                neighborhood  \\\n",
       "75931           2017-03-23  2015.0   6.0                   Rockaways   \n",
       "57371           2017-01-17  2009.0  12.0  Greenwich Village and Soho   \n",
       "39617           2016-12-28  2010.0  11.0         West Central Queens   \n",
       "66765           2017-03-30  2004.0  17.0             Lower Manhattan   \n",
       "41811           2016-08-17  2007.0  14.0            Central Brooklyn   \n",
       "\n",
       "         borough  Monochrome  \n",
       "75931     Queens       False  \n",
       "57371  Manhattan       False  \n",
       "39617     Queens       False  \n",
       "66765  Manhattan       False  \n",
       "41811   Brooklyn       False  "
      ]
     },
     "execution_count": 25,
     "metadata": {},
     "output_type": "execute_result"
    }
   ],
   "source": [
    "df.sample(5)"
   ]
  },
  {
   "cell_type": "markdown",
   "metadata": {},
   "source": [
    "loc is used to Access a group of rows and columns by label(s) or a boolean array\n",
    "\n",
    "As an input to label you can give a single label or it’s index or a list of array of labels\n",
    "\n",
    "Enter all the conditions and with & as a logical operator between them"
   ]
  },
  {
   "cell_type": "markdown",
   "metadata": {},
   "source": [
    "## How many dogs are in each borough? Plot it in a graph."
   ]
  },
  {
   "cell_type": "code",
   "execution_count": 26,
   "metadata": {},
   "outputs": [
    {
     "data": {
      "text/plain": [
       "<AxesSubplot:title={'center':'Dog Count in each borough'}>"
      ]
     },
     "execution_count": 26,
     "metadata": {},
     "output_type": "execute_result"
    },
    {
     "data": {
      "image/png": "[encoded data removed]",
      "text/plain": [
       "<Figure size 432x288 with 1 Axes>"
      ]
     },
     "metadata": {
      "needs_background": "light"
     },
     "output_type": "display_data"
    }
   ],
   "source": [
    "df.borough.value_counts(dropna=False).plot(kind='barh',title='Dog Count in each borough')"
   ]
  },
  {
   "cell_type": "markdown",
   "metadata": {},
   "source": [
    "## Which borough has the highest number of dogs per-capita?\n",
    "\n",
    "You’ll need to merge in `population_boro.csv`"
   ]
  },
  {
   "cell_type": "code",
   "execution_count": 27,
   "metadata": {},
   "outputs": [],
   "source": [
    "df_pop=pd.read_csv(\"boro_population.csv\")"
   ]
  },
  {
   "cell_type": "code",
   "execution_count": 28,
   "metadata": {},
   "outputs": [],
   "source": [
    "dogcount=df.groupby(by='borough').size().reset_index()\n",
    "dogcount=dogcount.merge(df_pop, on='borough',how='outer')"
   ]
  },
  {
   "cell_type": "code",
   "execution_count": 29,
   "metadata": {},
   "outputs": [],
   "source": [
    "dogcount[\"Dogs per-capita\"]=dogcount[0]/dogcount[\"population\"]"
   ]
  },
  {
   "cell_type": "code",
   "execution_count": 30,
   "metadata": {},
   "outputs": [
    {
     "data": {
      "text/plain": [
       "2    Manhattan\n",
       "Name: borough, dtype: object"
      ]
     },
     "execution_count": 30,
     "metadata": {},
     "output_type": "execute_result"
    }
   ],
   "source": [
    "dogcount.sort_values(by=\"Dogs per-capita\", ascending= False).head(1).borough"
   ]
  },
  {
   "cell_type": "markdown",
   "metadata": {},
   "source": [
    "Manhattan has the highest number of dogs per-capita."
   ]
  },
  {
   "cell_type": "markdown",
   "metadata": {},
   "source": [
    "`size` includes **NaN** values, `count` does not."
   ]
  },
  {
   "cell_type": "markdown",
   "metadata": {},
   "source": [
    "## Make a bar graph of the top 5 breeds in each borough.\n",
    "\n",
    "How do you groupby and then only take the top X number? You **really** should ask me, because it's kind of crazy."
   ]
  },
  {
   "cell_type": "code",
   "execution_count": 31,
   "metadata": {},
   "outputs": [
    {
     "data": {
      "text/html": [
       "<div>\n",
       "<style scoped>\n",
       "    .dataframe tbody tr th:only-of-type {\n",
       "        vertical-align: middle;\n",
       "    }\n",
       "\n",
       "    .dataframe tbody tr th {\n",
       "        vertical-align: top;\n",
       "    }\n",
       "\n",
       "    .dataframe thead th {\n",
       "        text-align: right;\n",
       "    }\n",
       "</style>\n",
       "<table border=\"1\" class=\"dataframe\">\n",
       "  <thead>\n",
       "    <tr style=\"text-align: right;\">\n",
       "      <th></th>\n",
       "      <th>borough</th>\n",
       "      <th>Primary Breed</th>\n",
       "      <th>breed counts</th>\n",
       "    </tr>\n",
       "  </thead>\n",
       "  <tbody>\n",
       "    <tr>\n",
       "      <th>0</th>\n",
       "      <td>Bronx</td>\n",
       "      <td>Yorkshire Terrier</td>\n",
       "      <td>753</td>\n",
       "    </tr>\n",
       "    <tr>\n",
       "      <th>1</th>\n",
       "      <td>Bronx</td>\n",
       "      <td>Shih Tzu</td>\n",
       "      <td>682</td>\n",
       "    </tr>\n",
       "    <tr>\n",
       "      <th>2</th>\n",
       "      <td>Bronx</td>\n",
       "      <td>Chihuahua</td>\n",
       "      <td>553</td>\n",
       "    </tr>\n",
       "    <tr>\n",
       "      <th>3</th>\n",
       "      <td>Bronx</td>\n",
       "      <td>American Pit Bull Terrier/Pit Bull</td>\n",
       "      <td>442</td>\n",
       "    </tr>\n",
       "    <tr>\n",
       "      <th>4</th>\n",
       "      <td>Bronx</td>\n",
       "      <td>Maltese</td>\n",
       "      <td>345</td>\n",
       "    </tr>\n",
       "    <tr>\n",
       "      <th>5</th>\n",
       "      <td>Brooklyn</td>\n",
       "      <td>Yorkshire Terrier</td>\n",
       "      <td>1316</td>\n",
       "    </tr>\n",
       "    <tr>\n",
       "      <th>6</th>\n",
       "      <td>Brooklyn</td>\n",
       "      <td>Shih Tzu</td>\n",
       "      <td>1236</td>\n",
       "    </tr>\n",
       "    <tr>\n",
       "      <th>7</th>\n",
       "      <td>Brooklyn</td>\n",
       "      <td>Chihuahua</td>\n",
       "      <td>987</td>\n",
       "    </tr>\n",
       "    <tr>\n",
       "      <th>8</th>\n",
       "      <td>Brooklyn</td>\n",
       "      <td>Labrador Retriever</td>\n",
       "      <td>655</td>\n",
       "    </tr>\n",
       "    <tr>\n",
       "      <th>9</th>\n",
       "      <td>Brooklyn</td>\n",
       "      <td>Maltese</td>\n",
       "      <td>640</td>\n",
       "    </tr>\n",
       "    <tr>\n",
       "      <th>10</th>\n",
       "      <td>Manhattan</td>\n",
       "      <td>Yorkshire Terrier</td>\n",
       "      <td>1402</td>\n",
       "    </tr>\n",
       "    <tr>\n",
       "      <th>11</th>\n",
       "      <td>Manhattan</td>\n",
       "      <td>Chihuahua</td>\n",
       "      <td>1287</td>\n",
       "    </tr>\n",
       "    <tr>\n",
       "      <th>12</th>\n",
       "      <td>Manhattan</td>\n",
       "      <td>Shih Tzu</td>\n",
       "      <td>1227</td>\n",
       "    </tr>\n",
       "    <tr>\n",
       "      <th>13</th>\n",
       "      <td>Manhattan</td>\n",
       "      <td>Labrador Retriever</td>\n",
       "      <td>1100</td>\n",
       "    </tr>\n",
       "    <tr>\n",
       "      <th>14</th>\n",
       "      <td>Manhattan</td>\n",
       "      <td>Maltese</td>\n",
       "      <td>856</td>\n",
       "    </tr>\n",
       "    <tr>\n",
       "      <th>15</th>\n",
       "      <td>Queens</td>\n",
       "      <td>Yorkshire Terrier</td>\n",
       "      <td>1085</td>\n",
       "    </tr>\n",
       "    <tr>\n",
       "      <th>16</th>\n",
       "      <td>Queens</td>\n",
       "      <td>Shih Tzu</td>\n",
       "      <td>1042</td>\n",
       "    </tr>\n",
       "    <tr>\n",
       "      <th>17</th>\n",
       "      <td>Queens</td>\n",
       "      <td>Maltese</td>\n",
       "      <td>806</td>\n",
       "    </tr>\n",
       "    <tr>\n",
       "      <th>18</th>\n",
       "      <td>Queens</td>\n",
       "      <td>Chihuahua</td>\n",
       "      <td>784</td>\n",
       "    </tr>\n",
       "    <tr>\n",
       "      <th>19</th>\n",
       "      <td>Queens</td>\n",
       "      <td>Labrador Retriever</td>\n",
       "      <td>505</td>\n",
       "    </tr>\n",
       "    <tr>\n",
       "      <th>20</th>\n",
       "      <td>Staten Island</td>\n",
       "      <td>Yorkshire Terrier</td>\n",
       "      <td>525</td>\n",
       "    </tr>\n",
       "    <tr>\n",
       "      <th>21</th>\n",
       "      <td>Staten Island</td>\n",
       "      <td>Shih Tzu</td>\n",
       "      <td>501</td>\n",
       "    </tr>\n",
       "    <tr>\n",
       "      <th>22</th>\n",
       "      <td>Staten Island</td>\n",
       "      <td>Labrador Retriever</td>\n",
       "      <td>404</td>\n",
       "    </tr>\n",
       "    <tr>\n",
       "      <th>23</th>\n",
       "      <td>Staten Island</td>\n",
       "      <td>Maltese</td>\n",
       "      <td>284</td>\n",
       "    </tr>\n",
       "    <tr>\n",
       "      <th>24</th>\n",
       "      <td>Staten Island</td>\n",
       "      <td>Chihuahua</td>\n",
       "      <td>261</td>\n",
       "    </tr>\n",
       "  </tbody>\n",
       "</table>\n",
       "</div>"
      ],
      "text/plain": [
       "          borough                       Primary Breed  breed counts\n",
       "0           Bronx                   Yorkshire Terrier           753\n",
       "1           Bronx                            Shih Tzu           682\n",
       "2           Bronx                           Chihuahua           553\n",
       "3           Bronx  American Pit Bull Terrier/Pit Bull           442\n",
       "4           Bronx                             Maltese           345\n",
       "5        Brooklyn                   Yorkshire Terrier          1316\n",
       "6        Brooklyn                            Shih Tzu          1236\n",
       "7        Brooklyn                           Chihuahua           987\n",
       "8        Brooklyn                  Labrador Retriever           655\n",
       "9        Brooklyn                             Maltese           640\n",
       "10      Manhattan                   Yorkshire Terrier          1402\n",
       "11      Manhattan                           Chihuahua          1287\n",
       "12      Manhattan                            Shih Tzu          1227\n",
       "13      Manhattan                  Labrador Retriever          1100\n",
       "14      Manhattan                             Maltese           856\n",
       "15         Queens                   Yorkshire Terrier          1085\n",
       "16         Queens                            Shih Tzu          1042\n",
       "17         Queens                             Maltese           806\n",
       "18         Queens                           Chihuahua           784\n",
       "19         Queens                  Labrador Retriever           505\n",
       "20  Staten Island                   Yorkshire Terrier           525\n",
       "21  Staten Island                            Shih Tzu           501\n",
       "22  Staten Island                  Labrador Retriever           404\n",
       "23  Staten Island                             Maltese           284\n",
       "24  Staten Island                           Chihuahua           261"
      ]
     },
     "execution_count": 31,
     "metadata": {},
     "output_type": "execute_result"
    }
   ],
   "source": [
    "top5= df[df[\"Primary Breed\"]!=\"Unknown\"] \\\n",
    ".groupby(by=\"borough\")[\"Primary Breed\"] \\\n",
    ".value_counts().groupby(level=0, group_keys=False).nlargest(5) \\\n",
    ".to_frame(name='breed counts').reset_index()\n",
    "top5"
   ]
  },
  {
   "cell_type": "markdown",
   "metadata": {},
   "source": [
    "`group_keys=False` to avoid the double columns. `to_frame(name='breed counts').reset_index()`"
   ]
  },
  {
   "cell_type": "code",
   "execution_count": 32,
   "metadata": {},
   "outputs": [
    {
     "data": {
      "text/plain": [
       "<AxesSubplot:xlabel='borough'>"
      ]
     },
     "execution_count": 32,
     "metadata": {},
     "output_type": "execute_result"
    },
    {
     "data": {
      "image/png": "[encoded data removed]",
      "text/plain": [
       "<Figure size 720x504 with 1 Axes>"
      ]
     },
     "metadata": {
      "needs_background": "light"
     },
     "output_type": "display_data"
    }
   ],
   "source": [
    "\n",
    "pivot_df = top5.pivot(index='borough', columns='Primary Breed', values='breed counts')\n",
    "pivot_df\n",
    "\n",
    "pivot_df.plot.bar(stacked=True, figsize=(10,7))"
   ]
  },
  {
   "cell_type": "markdown",
   "metadata": {},
   "source": [
    "## What percentage of dogs are not guard dogs?"
   ]
  },
  {
   "cell_type": "code",
   "execution_count": 33,
   "metadata": {},
   "outputs": [
    {
     "data": {
      "text/plain": [
       "No     0.999353\n",
       "Yes    0.000622\n",
       "NaN    0.000024\n",
       "Name: Guard or Trained, dtype: float64"
      ]
     },
     "execution_count": 33,
     "metadata": {},
     "output_type": "execute_result"
    }
   ],
   "source": [
    "df[\"Guard or Trained\"].value_counts(dropna=False, normalize= True)"
   ]
  },
  {
   "cell_type": "markdown",
   "metadata": {},
   "source": [
    "99,9% of the dogs are not guard or trained dogs."
   ]
  }
 ],
 "metadata": {
  "kernelspec": {
   "display_name": "Python 3",
   "language": "python",
   "name": "python3"
  },
  "language_info": {
   "codemirror_mode": {
    "name": "ipython",
    "version": 3
   },
   "file_extension": ".py",
   "mimetype": "text/x-python",
   "name": "python",
   "nbconvert_exporter": "python",
   "pygments_lexer": "ipython3",
   "version": "3.8.6"
  }
 },
 "nbformat": 4,
 "nbformat_minor": 2
}
